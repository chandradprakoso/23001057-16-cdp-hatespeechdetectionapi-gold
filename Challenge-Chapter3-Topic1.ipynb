{
 "cells": [
  {
   "cell_type": "code",
   "execution_count": 2,
   "metadata": {},
   "outputs": [],
   "source": [
    "tupple_tes = (1, 2, 3)"
   ]
  },
  {
   "cell_type": "code",
   "execution_count": 1,
   "metadata": {},
   "outputs": [
    {
     "name": "stdout",
     "output_type": "stream",
     "text": [
      "2\n",
      "4\n",
      "6\n",
      "8\n",
      "10\n",
      "12\n",
      "14\n"
     ]
    }
   ],
   "source": [
    "n = 2\n",
    "\n",
    "while(n < 15):\n",
    "        print(n)\n",
    "        n += 2"
   ]
  },
  {
   "cell_type": "code",
   "execution_count": 6,
   "metadata": {},
   "outputs": [
    {
     "name": "stdout",
     "output_type": "stream",
     "text": [
      "1\n",
      "2\n",
      "3\n"
     ]
    }
   ],
   "source": [
    "angka = [1, 2, 3]\n",
    "\n",
    "for x in angka:\n",
    "        print(x)"
   ]
  },
  {
   "cell_type": "code",
   "execution_count": 5,
   "metadata": {},
   "outputs": [
    {
     "name": "stdout",
     "output_type": "stream",
     "text": [
      "ari, 'doni. 'dino\n"
     ]
    }
   ],
   "source": [
    "names = [\"ari, 'doni. 'dino\"]\n",
    "\n",
    "for name in names:\n",
    "        print(name)"
   ]
  },
  {
   "cell_type": "code",
   "execution_count": 3,
   "metadata": {},
   "outputs": [
    {
     "name": "stdout",
     "output_type": "stream",
     "text": [
      "b\n",
      "i\n",
      "n\n"
     ]
    }
   ],
   "source": [
    "for x in \"binar\":\n",
    "    print(x)\n",
    "    if x == \"n\":\n",
    "        break"
   ]
  },
  {
   "cell_type": "code",
   "execution_count": 6,
   "metadata": {},
   "outputs": [
    {
     "name": "stdout",
     "output_type": "stream",
     "text": [
      "b\n",
      "b\n",
      "i\n",
      "i\n",
      "n\n",
      "a\n",
      "a\n",
      "r\n",
      "r\n"
     ]
    }
   ],
   "source": [
    "for x in \"binar\":\n",
    "    print(x)\n",
    "    if x == \"n\":\n",
    "        continue\n",
    "    print(x)"
   ]
  },
  {
   "cell_type": "code",
   "execution_count": 7,
   "metadata": {},
   "outputs": [
    {
     "name": "stdout",
     "output_type": "stream",
     "text": [
      "b\n",
      "i\n",
      "a\n",
      "r\n"
     ]
    }
   ],
   "source": [
    "for x in \"binar\":\n",
    "    if x == \"n\":\n",
    "        continue\n",
    "    print(x)"
   ]
  },
  {
   "cell_type": "code",
   "execution_count": 12,
   "metadata": {},
   "outputs": [
    {
     "name": "stdout",
     "output_type": "stream",
     "text": [
      "negatif\n"
     ]
    }
   ],
   "source": [
    "x = -1\n",
    "\n",
    "if x > 0:\n",
    "    print(\"positif\")\n",
    "elif x == 0:\n",
    "    print(\"nol\")\n",
    "else:\n",
    "    print(\"negatif\")"
   ]
  },
  {
   "cell_type": "code",
   "execution_count": 2,
   "metadata": {},
   "outputs": [
    {
     "name": "stdout",
     "output_type": "stream",
     "text": [
      "genap\n"
     ]
    }
   ],
   "source": [
    "x = int(input(\"masukan angka, \"))\n",
    "if x % 2 == 0:\n",
    "    print(\"genap\")\n",
    "else:\n",
    "    print(\"ganjil\")"
   ]
  },
  {
   "cell_type": "code",
   "execution_count": 3,
   "metadata": {},
   "outputs": [
    {
     "name": "stdout",
     "output_type": "stream",
     "text": [
      "1\n",
      "2\n",
      "3\n",
      "4\n",
      "5\n",
      "6\n",
      "7\n",
      "8\n",
      "9\n",
      "10\n",
      "11\n",
      "12\n",
      "13\n",
      "14\n",
      "15\n",
      "16\n",
      "17\n",
      "18\n",
      "19\n",
      "20\n"
     ]
    }
   ],
   "source": [
    "for x in range(1,21):\n",
    "    print(x)"
   ]
  },
  {
   "cell_type": "code",
   "execution_count": 20,
   "metadata": {},
   "outputs": [
    {
     "name": "stdout",
     "output_type": "stream",
     "text": [
      "362880\n"
     ]
    }
   ],
   "source": [
    "x = 1\n",
    "for i in range(1, 10):\n",
    "    x = x * i\n",
    "print(x)\n"
   ]
  },
  {
   "cell_type": "code",
   "execution_count": 37,
   "metadata": {},
   "outputs": [
    {
     "name": "stdout",
     "output_type": "stream",
     "text": [
      "362880\n"
     ]
    }
   ],
   "source": [
    "x = 9\n",
    "for i in range(9, 1, -1):\n",
    "    x = x * (i - 1)\n",
    "print(x)"
   ]
  },
  {
   "cell_type": "code",
   "execution_count": 36,
   "metadata": {},
   "outputs": [
    {
     "name": "stdout",
     "output_type": "stream",
     "text": [
      "0 1 2 3 4 5 "
     ]
    }
   ],
   "source": [
    "# printing first 6\n",
    "# whole number\n",
    "for i in range(6):\n",
    "\tprint(i, end=\" \")\n",
    "\n"
   ]
  },
  {
   "cell_type": "code",
   "execution_count": 53,
   "metadata": {},
   "outputs": [
    {
     "name": "stdout",
     "output_type": "stream",
     "text": [
      "ini bukan prima\n"
     ]
    }
   ],
   "source": [
    "def prime(x):\n",
    "    if x <= 1:\n",
    "        return False\n",
    "    elif x == 2:\n",
    "        return False\n",
    "    elif x % 2 == 0:\n",
    "        return False\n",
    "    \n",
    "    for i in range(3, x):\n",
    "        if x % i == 0:\n",
    "            return False\n",
    "    else:\n",
    "        return True\n",
    "    \n",
    "if prime(9):\n",
    "    print(\"ini prima\")\n",
    "else:\n",
    "    print(\"ini bukan prima\")"
   ]
  },
  {
   "cell_type": "code",
   "execution_count": 18,
   "metadata": {},
   "outputs": [
    {
     "name": "stdout",
     "output_type": "stream",
     "text": [
      "1\n",
      "2\n",
      "3\n",
      "4\n",
      "5\n",
      "6\n",
      "Cold\n",
      "8\n",
      "9\n",
      "Warm\n",
      "11\n",
      "12\n",
      "13\n",
      "Cold\n",
      "15\n",
      "16\n",
      "17\n",
      "18\n",
      "19\n",
      "Warm\n",
      "Cold\n",
      "22\n",
      "23\n",
      "24\n",
      "25\n",
      "26\n",
      "27\n",
      "Cold\n",
      "29\n",
      "Warm\n",
      "31\n",
      "32\n",
      "33\n",
      "34\n",
      "Cold\n",
      "36\n",
      "37\n",
      "38\n",
      "39\n",
      "Warm\n",
      "41\n",
      "Cold\n",
      "43\n",
      "44\n",
      "45\n",
      "46\n",
      "47\n",
      "48\n",
      "Cold\n",
      "Warm\n",
      "51\n",
      "52\n",
      "53\n",
      "54\n",
      "55\n",
      "Cold\n",
      "57\n",
      "58\n",
      "59\n",
      "Warm\n",
      "61\n",
      "62\n",
      "Cold\n",
      "64\n",
      "65\n",
      "66\n",
      "67\n",
      "68\n",
      "69\n",
      "Cold and Warm\n",
      "71\n",
      "72\n",
      "73\n",
      "74\n",
      "75\n",
      "76\n",
      "Cold\n",
      "78\n",
      "79\n",
      "Warm\n",
      "81\n",
      "82\n",
      "83\n",
      "Cold\n",
      "85\n",
      "86\n",
      "87\n",
      "88\n",
      "89\n",
      "Warm\n",
      "Cold\n",
      "92\n",
      "93\n",
      "94\n",
      "95\n",
      "96\n",
      "97\n",
      "Cold\n",
      "99\n",
      "Warm\n",
      "101\n",
      "102\n",
      "103\n",
      "104\n",
      "Cold\n",
      "106\n",
      "107\n",
      "108\n",
      "109\n",
      "Warm\n",
      "111\n",
      "Cold\n",
      "113\n",
      "114\n",
      "115\n",
      "116\n",
      "117\n",
      "118\n",
      "Cold\n",
      "Warm\n",
      "121\n",
      "122\n",
      "123\n",
      "124\n",
      "125\n",
      "Cold\n",
      "127\n",
      "128\n",
      "129\n",
      "Warm\n",
      "131\n",
      "132\n",
      "Cold\n",
      "134\n",
      "135\n",
      "136\n",
      "137\n",
      "138\n",
      "139\n",
      "Cold and Warm\n",
      "141\n",
      "142\n",
      "143\n",
      "144\n",
      "145\n",
      "146\n",
      "Cold\n",
      "148\n",
      "149\n",
      "Warm\n",
      "151\n",
      "152\n",
      "153\n",
      "Cold\n",
      "155\n",
      "156\n",
      "157\n",
      "158\n",
      "159\n",
      "Warm\n",
      "Cold\n",
      "162\n",
      "163\n",
      "164\n",
      "165\n",
      "166\n",
      "167\n",
      "Cold\n",
      "169\n",
      "Warm\n",
      "171\n",
      "172\n",
      "173\n",
      "174\n",
      "Cold\n",
      "176\n",
      "177\n",
      "178\n",
      "179\n",
      "Warm\n",
      "181\n",
      "Cold\n",
      "183\n",
      "184\n",
      "185\n",
      "186\n",
      "187\n",
      "188\n",
      "Cold\n",
      "Warm\n",
      "191\n",
      "192\n",
      "193\n",
      "194\n",
      "195\n",
      "Cold\n",
      "197\n",
      "198\n",
      "199\n",
      "Warm\n"
     ]
    }
   ],
   "source": [
    "\n",
    "for x in range(1, 201):\n",
    "    if x % 7 == 0 and x % 10 == 0:\n",
    "        print(\"Cold and Warm\")\n",
    "    elif x % 10 == 0:\n",
    "        print(\"Warm\")\n",
    "    elif x % 7 == 0:\n",
    "        print(\"Cold\")\n",
    "    else:\n",
    "        print(x)\n",
    "    "
   ]
  },
  {
   "cell_type": "code",
   "execution_count": 19,
   "metadata": {},
   "outputs": [
    {
     "name": "stdout",
     "output_type": "stream",
     "text": [
      "Cold\n"
     ]
    }
   ],
   "source": [
    "x = int(input(\"isi angka \"))\n",
    "                \n",
    "if x % 7 == 0 and x % 10 == 10:\n",
    "    print(\"Cold and Warm\")\n",
    "elif x % 10 == 0:\n",
    "    print(\"Warm\")\n",
    "elif x % 7 == 0:\n",
    "    print(\"Cold\")\n",
    "else:\n",
    "    print(x)\n",
    "    "
   ]
  },
  {
   "cell_type": "code",
   "execution_count": 20,
   "metadata": {},
   "outputs": [
    {
     "name": "stdout",
     "output_type": "stream",
     "text": [
      "35\n"
     ]
    }
   ],
   "source": [
    "s = [5, 4, 9, 0, 7, 8, 2]\n",
    "print(sum(s))"
   ]
  },
  {
   "cell_type": "code",
   "execution_count": 5,
   "metadata": {},
   "outputs": [
    {
     "name": "stdout",
     "output_type": "stream",
     "text": [
      "[(1, 2, 3), (3, 4, 5)]\n"
     ]
    },
    {
     "data": {
      "text/plain": [
       "list"
      ]
     },
     "execution_count": 5,
     "metadata": {},
     "output_type": "execute_result"
    }
   ],
   "source": [
    "my_list = [(1, 2,3), (3, 4, 5)]\n",
    "\n",
    "print(my_list)\n",
    "\n",
    "type(my_list)"
   ]
  },
  {
   "cell_type": "code",
   "execution_count": 4,
   "metadata": {},
   "outputs": [
    {
     "name": "stdout",
     "output_type": "stream",
     "text": [
      "([1, 2, 3], [7, 8, 9])\n"
     ]
    },
    {
     "data": {
      "text/plain": [
       "tuple"
      ]
     },
     "execution_count": 4,
     "metadata": {},
     "output_type": "execute_result"
    }
   ],
   "source": [
    "my_listx = ([1, 2, 3], [7, 8, 9])\n",
    "\n",
    "print(my_listx)\n",
    "\n",
    "type(my_listx)"
   ]
  }
 ],
 "metadata": {
  "kernelspec": {
   "display_name": "base",
   "language": "python",
   "name": "python3"
  },
  "language_info": {
   "codemirror_mode": {
    "name": "ipython",
    "version": 3
   },
   "file_extension": ".py",
   "mimetype": "text/x-python",
   "name": "python",
   "nbconvert_exporter": "python",
   "pygments_lexer": "ipython3",
   "version": "3.8.8"
  }
 },
 "nbformat": 4,
 "nbformat_minor": 2
}
